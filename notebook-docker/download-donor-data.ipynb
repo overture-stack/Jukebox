{
 "cells": [
  {
   "cell_type": "markdown",
   "metadata": {},
   "source": [
    "# Download Donor Data with the ICGC API\n",
    "\n",
    "This example shows how to use a PQL query to define the donors of interest and then download the data type of interest as tabular data (TSV). "
   ]
  },
  {
   "cell_type": "markdown",
   "metadata": {},
   "source": [
    "We start by importing the ICGC Python API (http://icgc-python.readthedocs.io/):"
   ]
  },
  {
   "cell_type": "code",
   "execution_count": null,
   "metadata": {},
   "outputs": [],
   "source": [
    "import icgc"
   ]
  },
  {
   "cell_type": "markdown",
   "metadata": {},
   "source": [
    "Next, we define what donors we are interested in through a PQL query. In our case we are interested in donors where the primary cancer site is Brain."
   ]
  },
  {
   "cell_type": "code",
   "execution_count": null,
   "metadata": {},
   "outputs": [],
   "source": [
    "pql = 'eq(donor.primarySite,\"Brain\")'"
   ]
  },
  {
   "cell_type": "markdown",
   "metadata": {},
   "source": [
    "We want to see what data types are available for us to download as well as how large the downloads will be. We can see this with the following code."
   ]
  },
  {
   "cell_type": "code",
   "execution_count": null,
   "metadata": {
    "scrolled": true
   },
   "outputs": [],
   "source": [
    "from pprint import pprint\n",
    "\n",
    "sizes = icgc.download_size(pql)\n",
    "print(\"Sizes are:\")\n",
    "pprint(sizes)"
   ]
  },
  {
   "cell_type": "markdown",
   "metadata": {},
   "source": [
    "We can see the various data types with their sizes reported in Bytes. In our example we want to download approximately 10MB worth of data for this demo. This will result in us downloading the donor, mirna_seq, stsm, and pexp data for the donors defined by our query. \n",
    "\n",
    "We will also download this data into the `mydata` directory."
   ]
  },
  {
   "cell_type": "code",
   "execution_count": null,
   "metadata": {},
   "outputs": [],
   "source": [
    "import os\n",
    "import urllib3\n",
    "urllib3.disable_warnings(urllib3.exceptions.InsecureRequestWarning)\n",
    "\n",
    "KB = 1024\n",
    "MB = 1024 * KB\n",
    "max_size = 10 * MB\n",
    "current_size = 0\n",
    "\n",
    "includes = []\n",
    "for k in sizes:\n",
    "    item_size = sizes[k]\n",
    "    if current_size + item_size < max_size:\n",
    "        includes.append(k)\n",
    "        current_size += item_size\n",
    "\n",
    "print(\"Including items {}\".format(includes))\n",
    "print(\"Approximate download size={:.2f} MB\".format(current_size / MB))\n",
    "\n",
    "# Change current directory\n",
    "# os.chdir(\"mydata\")\n",
    "\n",
    "# Download the information, and save the results in the file \"test.tar\"\n",
    "print(\"Starting Download...\")\n",
    "icgc.download(pql, includes, \"mydata/test\")\n",
    "print(\"Finished Download!\")"
   ]
  },
  {
   "cell_type": "markdown",
   "metadata": {},
   "source": [
    "As this downloaded the data to a tar file. We will want to extract the data. This can either be done through the bash shell or as python code. This example shows how to do with with python. "
   ]
  },
  {
   "cell_type": "code",
   "execution_count": null,
   "metadata": {},
   "outputs": [],
   "source": [
    "import tarfile\n",
    "tar = tarfile.open(\"mydata/test.tar\")\n",
    "tar.extractall(\"mydata\")\n",
    "tar.close()"
   ]
  },
  {
   "cell_type": "markdown",
   "metadata": {},
   "source": [
    "Now that the files have been extracted, let us take a look. We will first list the directory by running a shell command prefixed with `!`"
   ]
  },
  {
   "cell_type": "code",
   "execution_count": null,
   "metadata": {},
   "outputs": [],
   "source": [
    "!ls -l mydata"
   ]
  },
  {
   "cell_type": "markdown",
   "metadata": {},
   "source": [
    "After seeing what files are available, let us load one into a data frame using a popular data analysis library called pandas. https://pandas.pydata.org/\n",
    "\n",
    "For our example we will take a look at the protein expression data. "
   ]
  },
  {
   "cell_type": "code",
   "execution_count": null,
   "metadata": {},
   "outputs": [],
   "source": [
    "import pandas\n",
    "df = pandas.read_table(\"mydata/protein_expression.tsv.gz\",compression='gzip',sep='\\t')\n",
    "df"
   ]
  }
 ],
 "metadata": {
  "kernelspec": {
   "display_name": "Python 3",
   "language": "python",
   "name": "python3"
  },
  "language_info": {
   "codemirror_mode": {
    "name": "ipython",
    "version": 3
   },
   "file_extension": ".py",
   "mimetype": "text/x-python",
   "name": "python",
   "nbconvert_exporter": "python",
   "pygments_lexer": "ipython3",
   "version": "3.6.3"
  }
 },
 "nbformat": 4,
 "nbformat_minor": 2
}
