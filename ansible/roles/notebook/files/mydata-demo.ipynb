{
 "cells": [
  {
   "cell_type": "markdown",
   "metadata": {},
   "source": [
    "# Collaboratory Data File Access"
   ]
  },
  {
   "cell_type": "markdown",
   "metadata": {},
   "source": [
    "### **Step 1**: In the menu below Jupyter Notebook, goto **File -> Open** \n",
    "\n",
    "A new tab or window will open in your browser. "
   ]
  },
  {
   "cell_type": "markdown",
   "metadata": {},
   "source": [
    "## **Step 2**: **Go into the new window**, and **click on** _'score-client'_, **then** _'conf'_, **then** _'application.properties'_.\n",
    "\n",
    "The window will turn into a file editor, with the contents of the application.properties file ready for you to edit."
   ]
  },
  {
   "cell_type": "markdown",
   "metadata": {},
   "source": [
    "## Step 3: In the editor window, remove the '#' and space in front of the line that says '# accessToken='. \n",
    "\n",
    "After you do, the word 'accessToken' will turn blue."
   ]
  },
  {
   "cell_type": "markdown",
   "metadata": {},
   "source": [
    "## Step 4: Open a new browser window to https://dcc.icgc.org. We're going to get an access token to put into our file.\n",
    "\n",
    "Once you're logged in, **click on** 'Token Manager', and select the scope '_collab.download_'. Click **Generate**.\n",
    "\n",
    "**Copy and paste your token** into the window with the editor that's got your _'application.properties'_ file in it, so that the line now reads: 'accessToken' (in blue), followed by '=', followed by your access token (in green).\n",
    "\n",
    "Click **File -> Save** in the window with the editor to save your changes to the _'application.properties'_ file."
   ]
  },
  {
   "cell_type": "markdown",
   "metadata": {},
   "source": [
    "## Step 5: Your configuration is complete!\n",
    "To try out your new access, come back to this window, and follow the steps below!\n",
    "\n",
    "**Click in the box below**, and then click **'Run'** (near the top of the page) once for each line below, and watch\n",
    "it mount the files you requested in your manifest in your 'mydata' directory!"
   ]
  },
  {
   "cell_type": "code",
   "execution_count": 1,
   "metadata": {},
   "outputs": [],
   "source": [
    "import os"
   ]
  },
  {
   "cell_type": "code",
   "execution_count": 2,
   "metadata": {},
   "outputs": [],
   "source": [
    "os.environ['PATH'] += ':/home/jovyan/score-client/bin'\n",
    "os.environ['STORAGE_PROFILE'] = 'collab'"
   ]
  },
  {
   "cell_type": "code",
   "execution_count": 3,
   "metadata": {},
   "outputs": [
    {
     "name": "stdout",
     "output_type": "stream",
     "text": [
      "/opt/conda/bin:/usr/local/sbin:/usr/local/bin:/usr/sbin:/usr/bin:/sbin:/bin:/home/jovyan/score-client/bin\r\n"
     ]
    }
   ],
   "source": [
    "!echo $PATH"
   ]
  },
  {
   "cell_type": "code",
   "execution_count": 4,
   "metadata": {},
   "outputs": [
    {
     "name": "stdout",
     "output_type": "stream",
     "text": [
      "                                                                                \n",
      "\u001b[32m> \u001b[m\u001b[1mICGC \u001b[22mStorage Client\n",
      "\n",
      "\u001b[32m  Active Configuration: \u001b[m\n",
      "    Profile:          collab\n",
      "    Storage Endpoint: \u001b[34;4mhttps://storage.cancercollaboratory.org\u001b[m\n",
      "    Access Token:     e5bd3c79-785c-4033-95a0-6ba332dd4c62\n"
     ]
    }
   ],
   "source": [
    "!score-client info"
   ]
  },
  {
   "cell_type": "markdown",
   "metadata": {},
   "source": [
    "## Step 6: Try it out!\n",
    "\n",
    "We've provided you with a sample manifest file consisting of a single file for this demo. \n",
    "\n",
    "You can mount the file referenced in it using the command below.\n",
    "\n"
   ]
  },
  {
   "cell_type": "code",
   "execution_count": 16,
   "metadata": {},
   "outputs": [
    {
     "name": "stdout",
     "output_type": "stream",
     "text": [
      "[\u001b[32m4\u001b[m] Applying manifest view:                                             ...\n",
      "\u001b[32m--------------------------------------------------------------------------------\u001b[m\n",
      "\u001b[1m<object id>: <gnos id>/<file name> @ <file size>\u001b[m\n",
      "\u001b[32m--------------------------------------------------------------------------------\u001b[m\n",
      " - \u001b[34m6329334b-dcd5-53c8-98fd-9812ac386d30\u001b[m: \u001b[32mefcf90ee-53ae-4f9f-b29a-e0a83ca70272\u001b[m/\u001b[32mf5c9381090a53c54358feb2ba5b7a3d7.bam\u001b[m \u001b[1m@\u001b[m 119.9 \u001b[1mG\u001b[m\n",
      " - \u001b[34m23c403db-4bdf-5e81-bfb7-fd7aea57144d\u001b[m: \u001b[32mefcf90ee-53ae-4f9f-b29a-e0a83ca70272\u001b[m/\u001b[32mf5c9381090a53c54358feb2ba5b7a3d7.bam.bai\u001b[m \u001b[1m@\u001b[m 14.8 \u001b[1mM\u001b[m\n",
      "\u001b[32m--------------------------------------------------------------------------------\u001b[m\n",
      " Total count: 2, Total size: 119.9 G\n",
      "\n",
      "\u001b[32mSuccessfully mounted file system at \u001b[1m/home/jovyan/mydata/mnt\u001b[22m and is now ready for use.\u001b[m\n",
      "\u001b[32mShut down mount after \u001b[1m12.68 min\u001b[22m with a total of \u001b[1m2 connects\u001b[22m and \u001b[1m28.6 M\u001b[22m bytes read.\n",
      "\u001b[m"
     ]
    }
   ],
   "source": [
    "!score-client mount --cache-metadata --mount-point ~/mydata/mnt --manifest manifest.collaboratory.example.tsv "
   ]
  },
  {
   "cell_type": "markdown",
   "metadata": {},
   "source": [
    "As you can see from the output above, we now have two files available: **f5c9381090a53c54358feb2ba5b7a3d7.bam**,\n",
    "and **f5c9381090a53c54358feb2ba5b7a3d7.bam.bai**. \n",
    "\n",
    "They're both located in the directory **mydata/mnt/efcf90ee-53ae-4f9f-b29a-e0a83ca70272**; we'll be able to access them from other Jupyter Notebooks and from Jupyter Notebook terminal windows as long as we keep running the command above!\n",
    "\n",
    "When we're done, we can go to the top of the page, and click **Kernel->Interrupt**. That will stop our mount program; so when we're done looking with one set of files, we can just change the manifest file we're using, and re-run the mount program, and we'll get a new set of data to look at in our **mydata/mnt** directory!"
   ]
  },
  {
   "cell_type": "markdown",
   "metadata": {},
   "source": [
    "## Step 7: Start Exploring!\n",
    "\n",
    "Sample data is fine: but how do I get some real cancer genome data to analyze?\n",
    "\n",
    "Just to https://dcc.icgc.org, go to *Data Repositories*, and download a manifest file consisting of the files you're interested in. Extract the contents of the tar.gz file, then upload the file that starts with *manifest.collaboratory* to your Jupyter notebook.\n",
    "\n",
    "**Pro Tip:** You can upload files from your main *Jupyter Notebook* page -- there's a link to it at the top of this page on the top left side\n",
    "\n",
    "Once you have a manifest of files to mount, just change **manifest.collaboratory.example.tsv** in the command above to the name of your manifest file, and click **Run**. Once you do, the files you requested will be mounted from the ICGC collaboratory into your **mydata/mnt** directory for you. "
   ]
  },
  {
   "cell_type": "code",
   "execution_count": null,
   "metadata": {},
   "outputs": [],
   "source": []
  }
 ],
 "metadata": {
  "kernelspec": {
   "display_name": "Python 3",
   "language": "python",
   "name": "python3"
  },
  "language_info": {
   "codemirror_mode": {
    "name": "ipython",
    "version": 3
   },
   "file_extension": ".py",
   "mimetype": "text/x-python",
   "name": "python",
   "nbconvert_exporter": "python",
   "pygments_lexer": "ipython3",
   "version": "3.6.3"
  }
 },
 "nbformat": 4,
 "nbformat_minor": 2
}
